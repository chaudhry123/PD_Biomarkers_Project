{
 "cells": [
  {
   "cell_type": "code",
   "execution_count": 6,
   "id": "ab3c7003",
   "metadata": {},
   "outputs": [],
   "source": [
    "#Import libraries and set random seed\n",
    "import pandas as pd\n",
    "import numpy as np\n",
    "#import multiprocessing\n",
    "\n",
    "#multiprocessing.cpu_count()\n",
    "#import torch\n",
    "import os\n",
    "import pandas as pd\n",
    "#from torchvision.io import read_image\n",
    "import numpy as np\n",
    "import matplotlib.pyplot as plt\n",
    "#import torch.nn as nn\n",
    "#import torch.optim as optim\n",
    "#from torch.utils.data import Dataset, DataLoader, random_split\n",
    "#from torchvision import transforms\n",
    "#from torch import nn, optim\n",
    "#import torch.nn.functional as F\n",
    "#import torch.utils.data as data\n",
    "#import torch\n",
    "import numpy as np\n",
    "from collections import Counter\n",
    "from sklearn.model_selection import train_test_split\n",
    "from sklearn.utils import shuffle\n",
    "from collections import Counter\n",
    "from sklearn.metrics import roc_auc_score\n",
    "from sklearn.metrics import confusion_matrix\n",
    "\n",
    "\n",
    "np.random.seed(42)"
   ]
  },
  {
   "cell_type": "code",
   "execution_count": 8,
   "id": "010d86ba",
   "metadata": {},
   "outputs": [
    {
     "data": {
      "text/html": [
       "<div>\n",
       "<style scoped>\n",
       "    .dataframe tbody tr th:only-of-type {\n",
       "        vertical-align: middle;\n",
       "    }\n",
       "\n",
       "    .dataframe tbody tr th {\n",
       "        vertical-align: top;\n",
       "    }\n",
       "\n",
       "    .dataframe thead th {\n",
       "        text-align: right;\n",
       "    }\n",
       "</style>\n",
       "<table border=\"1\" class=\"dataframe\">\n",
       "  <thead>\n",
       "    <tr style=\"text-align: right;\">\n",
       "      <th></th>\n",
       "      <th>column_name</th>\n",
       "      <th>percent_missing</th>\n",
       "    </tr>\n",
       "    <tr>\n",
       "      <th>protein_id</th>\n",
       "      <th></th>\n",
       "      <th></th>\n",
       "    </tr>\n",
       "  </thead>\n",
       "  <tbody>\n",
       "    <tr>\n",
       "      <th>619</th>\n",
       "      <td>619</td>\n",
       "      <td>1.017001</td>\n",
       "    </tr>\n",
       "    <tr>\n",
       "      <th>1881</th>\n",
       "      <td>1881</td>\n",
       "      <td>1.017001</td>\n",
       "    </tr>\n",
       "    <tr>\n",
       "      <th>361</th>\n",
       "      <td>361</td>\n",
       "      <td>1.017001</td>\n",
       "    </tr>\n",
       "    <tr>\n",
       "      <th>2397</th>\n",
       "      <td>2397</td>\n",
       "      <td>1.017001</td>\n",
       "    </tr>\n",
       "    <tr>\n",
       "      <th>2381</th>\n",
       "      <td>2381</td>\n",
       "      <td>1.017001</td>\n",
       "    </tr>\n",
       "    <tr>\n",
       "      <th>...</th>\n",
       "      <td>...</td>\n",
       "      <td>...</td>\n",
       "    </tr>\n",
       "    <tr>\n",
       "      <th>115</th>\n",
       "      <td>115</td>\n",
       "      <td>8.860808</td>\n",
       "    </tr>\n",
       "    <tr>\n",
       "      <th>2614</th>\n",
       "      <td>2614</td>\n",
       "      <td>13.378491</td>\n",
       "    </tr>\n",
       "    <tr>\n",
       "      <th>732</th>\n",
       "      <td>732</td>\n",
       "      <td>23.170917</td>\n",
       "    </tr>\n",
       "    <tr>\n",
       "      <th>1991</th>\n",
       "      <td>1991</td>\n",
       "      <td>63.357620</td>\n",
       "    </tr>\n",
       "    <tr>\n",
       "      <th>1889</th>\n",
       "      <td>1889</td>\n",
       "      <td>73.827413</td>\n",
       "    </tr>\n",
       "  </tbody>\n",
       "</table>\n",
       "<p>1463 rows × 2 columns</p>\n",
       "</div>"
      ],
      "text/plain": [
       "            column_name  percent_missing\n",
       "protein_id                              \n",
       "619                 619         1.017001\n",
       "1881               1881         1.017001\n",
       "361                 361         1.017001\n",
       "2397               2397         1.017001\n",
       "2381               2381         1.017001\n",
       "...                 ...              ...\n",
       "115                 115         8.860808\n",
       "2614               2614        13.378491\n",
       "732                 732        23.170917\n",
       "1991               1991        63.357620\n",
       "1889               1889        73.827413\n",
       "\n",
       "[1463 rows x 2 columns]"
      ]
     },
     "execution_count": 8,
     "metadata": {},
     "output_type": "execute_result"
    }
   ],
   "source": [
    "#Show Percent Missing\n",
    "missing_value_df.sort_values('percent_missing')"
   ]
  },
  {
   "cell_type": "code",
   "execution_count": 10,
   "id": "75765271",
   "metadata": {},
   "outputs": [],
   "source": [
    "#Replace uniprot_id's with protein names\n",
    "olinknames = pd.read_csv(\"/home/ffc4001/ukbiobankdata/Data/coding143.tsv\",sep='\\t')\n",
    "olinknames_dict = dict(zip(olinknames.coding, olinknames.meaning))"
   ]
  },
  {
   "cell_type": "code",
   "execution_count": 103,
   "id": "0a4fec92",
   "metadata": {},
   "outputs": [
    {
     "data": {
      "text/plain": [
       "'RNASET2;Ribonuclease T2'"
      ]
     },
     "execution_count": 103,
     "metadata": {},
     "output_type": "execute_result"
    }
   ],
   "source": [
    "olinknames_dict[2297]"
   ]
  },
  {
   "cell_type": "code",
   "execution_count": 11,
   "id": "a1426b81",
   "metadata": {},
   "outputs": [],
   "source": [
    "ukolink1.columns = ukolink1.columns.map(olinknames_dict)"
   ]
  },
  {
   "cell_type": "code",
   "execution_count": 24,
   "id": "57491d1f",
   "metadata": {},
   "outputs": [],
   "source": [
    "eid = ukolink1.index\n",
    "eid.to_csv(\"/home/ffc4001/ukbiobankdata/Data/olink_eid.csv\")"
   ]
  },
  {
   "cell_type": "code",
   "execution_count": null,
   "id": "9a12b702",
   "metadata": {},
   "outputs": [],
   "source": [
    "# Create correlation matrix WORK IN PROGRESS\n",
    "corr_matrix = df.corr().abs()\n",
    "\n",
    "# Select upper triangle of correlation matrix\n",
    "upper = corr_matrix.where(np.triu(np.ones(corr_matrix.shape), k=1).astype(bool))\n",
    "\n",
    "# Find features with correlation greater than 0.95\n",
    "to_drop = [column for column in upper.columns if any(upper[column] > 0.95)]\n",
    "\n",
    "# Drop features \n",
    "df.drop(to_drop, axis=1, inplace=True)"
   ]
  },
  {
   "cell_type": "code",
   "execution_count": 28,
   "id": "7ed75a0a",
   "metadata": {},
   "outputs": [],
   "source": [
    "#Read in Variant only data\n",
    "Trn_input =  pd.read_csv(\"/home/ffc4001/ukbiobankdata/TrainTest/ukbiobank_variantsonlytraindata_eid.csv\")\n",
    "Trn_target = pd.read_csv(\"/home/ffc4001/ukbiobankdata/TrainTest/ukbiobank_variantsonlytrainy_eid.csv\")\n",
    "Test_input = pd.read_csv(\"/home/ffc4001/ukbiobankdata/TrainTest/ukbiobank_variantsonlytestdata_eid.csv\")\n",
    "Test_target = pd.read_csv(\"/home/ffc4001/ukbiobankdata/TrainTest/ukbiobank_variantsonlytesty_eid.csv\")\n",
    "Val_input = pd.read_csv(\"/home/ffc4001/ukbiobankdata/TrainTest/ppmi_variantsonlyvaldata_eid.csv\")\n",
    "Val_target = pd.read_csv(\"/home/ffc4001/ukbiobankdata/TrainTest/ppmi_variantsonlyvaly_eid.csv\")\n",
    "Trn_input = pd.concat([Trn_input, pd.DataFrame(Trn_target)], axis=1)\n",
    "Test_input = pd.concat([Test_input, pd.DataFrame(Test_target)], axis=1)\n"
   ]
  },
  {
   "cell_type": "code",
   "execution_count": 29,
   "id": "286955ae",
   "metadata": {},
   "outputs": [],
   "source": [
    "Trn_input.drop([\"Unnamed: 0\"], axis=1, inplace=True) \n",
    "Trn_target.drop([\"Unnamed: 0\"], axis=1, inplace=True) \n",
    "Test_input.drop([\"Unnamed: 0\"], axis=1, inplace=True)\n",
    "Test_target.drop([\"Unnamed: 0\"], axis=1, inplace=True) \n",
    "Val_input.drop([\"Unnamed: 0\"], axis=1, inplace=True)\n",
    "Val_target.drop([\"Unnamed: 0\"], axis=1, inplace=True) "
   ]
  },
  {
   "cell_type": "code",
   "execution_count": 30,
   "id": "c1733962",
   "metadata": {},
   "outputs": [],
   "source": [
    "ukolink1.index.names = ['eid_correct']\n",
    "ukblood_values = ukolink1"
   ]
  },
  {
   "cell_type": "code",
   "execution_count": 31,
   "id": "7fa2da78",
   "metadata": {},
   "outputs": [],
   "source": [
    "#Merge Olink Data to PPMI Data\n",
    "Trn_input = Trn_input.merge(ukblood_values,how='inner', on=\"eid_correct\")\n",
    "Test_input = Test_input.merge(ukblood_values,how='inner', on=\"eid_correct\")"
   ]
  },
  {
   "cell_type": "code",
   "execution_count": 32,
   "id": "c55863ae",
   "metadata": {},
   "outputs": [],
   "source": [
    "Trn_target = Trn_input[\"Y\"]\n",
    "Test_target = Test_input[\"Y\"]"
   ]
  },
  {
   "cell_type": "code",
   "execution_count": 33,
   "id": "ba0f2a2a",
   "metadata": {},
   "outputs": [],
   "source": [
    "Trn_input.drop([\"Y\"], axis=1, inplace=True)\n",
    "Test_input.drop([\"Y\"], axis=1, inplace=True)"
   ]
  },
  {
   "cell_type": "code",
   "execution_count": 42,
   "id": "bce0f27f",
   "metadata": {},
   "outputs": [],
   "source": [
    "#eid_correct1 = Trn_input.eid_correct\n",
    "#eid_correct2 = Test_input.eid_correct"
   ]
  },
  {
   "cell_type": "code",
   "execution_count": 48,
   "id": "3d51911b",
   "metadata": {},
   "outputs": [],
   "source": [
    "Trn_input.drop([\"eid_correct\"], axis=1, inplace=True)\n",
    "Test_input.drop([\"eid_correct\"], axis=1, inplace=True)"
   ]
  },
  {
   "cell_type": "code",
   "execution_count": 49,
   "id": "0c1ef293",
   "metadata": {},
   "outputs": [],
   "source": [
    "#Imputation\n",
    "Trn_input.fillna(Trn_input.mode().iloc[0], inplace=True)\n",
    "Test_input.fillna(Test_input.mode().iloc[0], inplace=True)"
   ]
  },
  {
   "cell_type": "code",
   "execution_count": null,
   "id": "d71593b1",
   "metadata": {},
   "outputs": [],
   "source": [
    "#age plus olink normalization\n",
    "column = \"age\""
   ]
  },
  {
   "cell_type": "code",
   "execution_count": null,
   "id": "0488e608",
   "metadata": {},
   "outputs": [],
   "source": [
    "# #Standarize age, and biomarkers\n",
    "# Trn_input[column] = (Trn_input[column] - Trn_input[column].min()) / (Trn_input[column].max() - Trn_input[column].min())\n",
    "# Test_input[column] = (Test_input[column] - Test_input[column].min()) / (Test_input[column].max() - Test_input[column].min())\n",
    "# X_val[column] = (X_val[column] - X_val[column].min()) / (X_val[column].max() - X_val[column].min())"
   ]
  },
  {
   "cell_type": "code",
   "execution_count": 45,
   "id": "94f076f4",
   "metadata": {},
   "outputs": [],
   "source": [
    "#eid3 = pd.concat([eid_correct1, eid_correct2])"
   ]
  },
  {
   "cell_type": "code",
   "execution_count": 47,
   "id": "6194ab60",
   "metadata": {},
   "outputs": [],
   "source": [
    "#eid3.to_csv(\"/home/ffc4001/ukbiobankdata/Data/olink_eid.csv\")"
   ]
  },
  {
   "cell_type": "code",
   "execution_count": null,
   "id": "f068a91d",
   "metadata": {},
   "outputs": [],
   "source": [
    "#SAVE FILES"
   ]
  },
  {
   "cell_type": "code",
   "execution_count": null,
   "id": "5ec6c84a",
   "metadata": {},
   "outputs": [],
   "source": [
    "#add olink to ppmi data set align."
   ]
  },
  {
   "cell_type": "code",
   "execution_count": 50,
   "id": "61e506aa",
   "metadata": {},
   "outputs": [],
   "source": [
    "X_val = pd.read_pickle(\"/home/ffc4001/ukbiobankdata/Data/final_X_valvariantsonly\")\n"
   ]
  },
  {
   "cell_type": "code",
   "execution_count": 210,
   "id": "726ee911",
   "metadata": {},
   "outputs": [],
   "source": [
    "Y_val = pd.read_pickle(\"/home/ffc4001/ukbiobankdata/Data/final_Y_valvariantsonly\")"
   ]
  },
  {
   "cell_type": "code",
   "execution_count": 58,
   "id": "9ad22edf",
   "metadata": {},
   "outputs": [],
   "source": [
    "ppmi_id = Val_input[[\"eid_correct\"]]"
   ]
  },
  {
   "cell_type": "code",
   "execution_count": 60,
   "id": "fae5a66b",
   "metadata": {},
   "outputs": [],
   "source": [
    "X_val[\"PATNO\"] = ppmi_id[\"eid_correct\"]"
   ]
  },
  {
   "cell_type": "code",
   "execution_count": 54,
   "id": "476baff7",
   "metadata": {},
   "outputs": [],
   "source": [
    "olink_cardio_ppmi = pd.read_csv(\"/home/ffc4001/ukbiobankdata/Data/PPMI_Project_196_Plasma_Cardio_NPX_13Dec2023.csv\")\n",
    "olink_immune_ppmi = pd.read_csv(\"/home/ffc4001/ukbiobankdata/Data/PPMI_Project_196_Plasma_INF_NPX_13Dec2023.csv\")\n",
    "olink_cancer_ppmi = pd.read_csv(\"/home/ffc4001/ukbiobankdata/Data/PPMI_Project_196_Plasma_ONC_NPX_13Dec2023.csv\")\n",
    "olink_neuro_ppmi = pd.read_csv(\"/home/ffc4001/ukbiobankdata/Data/PPMI_Project_196_Plasma_NEURO_NPX_13Dec2023.csv\")"
   ]
  },
  {
   "cell_type": "code",
   "execution_count": null,
   "id": "018610ed",
   "metadata": {},
   "outputs": [],
   "source": [
    "#Match to ukbiobank column name\n",
    "#I need patno by NPX with column names ASSAY"
   ]
  },
  {
   "cell_type": "code",
   "execution_count": 125,
   "id": "a6b123fc",
   "metadata": {},
   "outputs": [
    {
     "data": {
      "text/plain": [
       "295"
      ]
     },
     "execution_count": 125,
     "metadata": {},
     "output_type": "execute_result"
    }
   ],
   "source": [
    "olink_neuro_ppmi['PATNO']. nunique()"
   ]
  },
  {
   "cell_type": "code",
   "execution_count": 130,
   "id": "97e659a3",
   "metadata": {},
   "outputs": [],
   "source": [
    "olink_cardio_ppmi1 = olink_cardio_ppmi[[\"PATNO\", \"ASSAY\", \"NPX\"]]\n",
    "olink_immune_ppmi1 = olink_immune_ppmi[[\"PATNO\", \"ASSAY\", \"NPX\"]]\n",
    "olink_neuro_ppmi1 = olink_neuro_ppmi[[\"PATNO\", \"ASSAY\", \"NPX\"]]\n",
    "olink_cancer_ppmi1 = olink_cancer_ppmi[[\"PATNO\", \"ASSAY\", \"NPX\"]]"
   ]
  },
  {
   "cell_type": "code",
   "execution_count": 154,
   "id": "f2742f39",
   "metadata": {},
   "outputs": [],
   "source": [
    "olink_cardio_ppmi2 = olink_cardio_ppmi1.pivot_table(['NPX'], 'PATNO', 'ASSAY')\n",
    "olink_neuro_ppmi2 = olink_neuro_ppmi1.pivot_table(['NPX'], 'PATNO', 'ASSAY')\n",
    "olink_cancer_ppmi2 = olink_cancer_ppmi1.pivot_table(['NPX'], 'PATNO', 'ASSAY')\n",
    "olink_immune_ppmi2 = olink_immune_ppmi1.pivot_table(['NPX'], 'PATNO', 'ASSAY')"
   ]
  },
  {
   "cell_type": "code",
   "execution_count": 171,
   "id": "faad1c14",
   "metadata": {},
   "outputs": [],
   "source": [
    "olink_neuro_ppmi2.columns = olink_neuro_ppmi2.columns.droplevel()"
   ]
  },
  {
   "cell_type": "code",
   "execution_count": 175,
   "id": "bb010793",
   "metadata": {},
   "outputs": [],
   "source": [
    "olink_cancer_ppmi2.columns = olink_cancer_ppmi2.columns.droplevel()\n",
    "olink_immune_ppmi2.columns = olink_immune_ppmi2.columns.droplevel()\n",
    "olink_cardio_ppmi2.columns = olink_cardio_ppmi2.columns.droplevel()"
   ]
  },
  {
   "cell_type": "code",
   "execution_count": 170,
   "id": "45d0c573",
   "metadata": {},
   "outputs": [
    {
     "data": {
      "text/plain": [
       "(295, 370)"
      ]
     },
     "execution_count": 170,
     "metadata": {},
     "output_type": "execute_result"
    }
   ],
   "source": [
    "temp.shape"
   ]
  },
  {
   "cell_type": "code",
   "execution_count": 177,
   "id": "40a6f7f0",
   "metadata": {},
   "outputs": [],
   "source": [
    "#merge data \n",
    "merge = pd.merge(olink_cancer_ppmi2, olink_neuro_ppmi2, on=\"PATNO\") \n",
    "merge = pd.merge(merge, olink_immune_ppmi2, on=\"PATNO\")\n",
    "#merge = pd.merge(merge, olink_cardio_ppmi2, on=\"PATNO\")\n"
   ]
  },
  {
   "cell_type": "code",
   "execution_count": 178,
   "id": "556fb9a6",
   "metadata": {},
   "outputs": [
    {
     "name": "stderr",
     "output_type": "stream",
     "text": [
      "/tmp/ipykernel_793386/3976361491.py:1: FutureWarning: Passing 'suffixes' which cause duplicate columns {'TNF_x', 'IL6_x', 'CXCL8_x'} in the result is deprecated and will raise a MergeError in a future version.\n",
      "  merge = pd.merge(merge, olink_cardio_ppmi2, on=\"PATNO\")\n"
     ]
    }
   ],
   "source": [
    "merge = pd.merge(merge, olink_cardio_ppmi2, on=\"PATNO\")"
   ]
  },
  {
   "cell_type": "code",
   "execution_count": 179,
   "id": "17cc348d",
   "metadata": {},
   "outputs": [
    {
     "data": {
      "text/plain": [
       "Index(['AARSD1', 'ABL1', 'ACAA1', 'ACP6', 'ADAMTS15', 'ADAMTS8', 'ADCYAP1R1',\n",
       "       'ADGRG1', 'ADM', 'AGR3',\n",
       "       ...\n",
       "       'VAMP5', 'VASN', 'VCAM1', 'VIM', 'VSIR', 'VSTM2L', 'VWF', 'WASF1', 'XG',\n",
       "       'ZBTB17'],\n",
       "      dtype='object', name='ASSAY', length=1475)"
      ]
     },
     "execution_count": 179,
     "metadata": {},
     "output_type": "execute_result"
    }
   ],
   "source": [
    "merge.columns.unique()"
   ]
  },
  {
   "cell_type": "code",
   "execution_count": 196,
   "id": "a8abb99e",
   "metadata": {},
   "outputs": [],
   "source": [
    "merge.drop(merge.tail(2).index,\n",
    "        inplace = True)"
   ]
  },
  {
   "cell_type": "code",
   "execution_count": 197,
   "id": "44c4269f",
   "metadata": {},
   "outputs": [],
   "source": [
    "merge['id'] = merge['id'].astype(np.float64)"
   ]
  },
  {
   "cell_type": "code",
   "execution_count": 203,
   "id": "45b16df2",
   "metadata": {},
   "outputs": [],
   "source": [
    "merge[\"PATNO\"] = merge['id']\n",
    "merge.index.names = ['id1']"
   ]
  },
  {
   "cell_type": "code",
   "execution_count": 204,
   "id": "8afbfcdb",
   "metadata": {},
   "outputs": [],
   "source": [
    "X_val1 = pd.merge(X_val, merge, on=\"PATNO\") "
   ]
  },
  {
   "cell_type": "code",
   "execution_count": null,
   "id": "9a30bc70",
   "metadata": {},
   "outputs": [],
   "source": [
    "Y_val[\"PATNO\"] = X_val[\"PATNO\"]"
   ]
  },
  {
   "cell_type": "code",
   "execution_count": 219,
   "id": "6bf2d2f7",
   "metadata": {},
   "outputs": [],
   "source": [
    "Y_val1 = pd.DataFrame(Y_val.T, columns=['Y'])"
   ]
  },
  {
   "cell_type": "code",
   "execution_count": 220,
   "id": "b6f984eb",
   "metadata": {},
   "outputs": [],
   "source": [
    "Y_val1[\"PATNO\"] = X_val[\"PATNO\"]"
   ]
  },
  {
   "cell_type": "code",
   "execution_count": 224,
   "id": "e28a3c89",
   "metadata": {},
   "outputs": [],
   "source": [
    "Y_val1 = pd.merge(Y_val1, X_val1[\"PATNO\"],  on=\"PATNO\")"
   ]
  },
  {
   "cell_type": "code",
   "execution_count": 231,
   "id": "796834d5",
   "metadata": {},
   "outputs": [],
   "source": [
    "Y_val1 = Y_val1[\"Y\"]"
   ]
  },
  {
   "cell_type": "code",
   "execution_count": 234,
   "id": "6ac9e954",
   "metadata": {},
   "outputs": [
    {
     "data": {
      "text/plain": [
       "31.0"
      ]
     },
     "execution_count": 234,
     "metadata": {},
     "output_type": "execute_result"
    }
   ],
   "source": [
    "Y_val1.sum()"
   ]
  },
  {
   "cell_type": "code",
   "execution_count": null,
   "id": "79989a31",
   "metadata": {},
   "outputs": [],
   "source": [
    "#Align olink data."
   ]
  },
  {
   "cell_type": "code",
   "execution_count": 250,
   "id": "26fadc8e",
   "metadata": {},
   "outputs": [],
   "source": [
    "column_names = Trn_input.columns[637:]"
   ]
  },
  {
   "cell_type": "code",
   "execution_count": 255,
   "id": "3538ad2f",
   "metadata": {},
   "outputs": [],
   "source": [
    "old_names = Trn_input.columns[637:]\n",
    "Trn_input.rename(columns=dict(zip(old_names, old_names.str.split(';').str[0])), inplace=True)"
   ]
  },
  {
   "cell_type": "code",
   "execution_count": 284,
   "id": "19755599",
   "metadata": {},
   "outputs": [],
   "source": [
    "old_names = Test_input.columns[637:]\n",
    "Test_input.rename(columns=dict(zip(old_names, old_names.str.split(';').str[0])), inplace=True)"
   ]
  },
  {
   "cell_type": "code",
   "execution_count": 268,
   "id": "1bb78ba6",
   "metadata": {},
   "outputs": [],
   "source": [
    "names = Trn_input.columns"
   ]
  },
  {
   "cell_type": "code",
   "execution_count": 269,
   "id": "b9658bb6",
   "metadata": {},
   "outputs": [
    {
     "data": {
      "text/plain": [
       "Index(['Inferred_Gender', 'Age', 'X1.8495945_T_C_C', 'X1.20149058_A_G_G',\n",
       "       'X1.20149560_G_A_A', 'X1.20150839_A_G_G', 'X1.20150984_C_G_G',\n",
       "       'X1.20150998_A_G_G', 'X1.20151290_C_A_A', 'X1.20151431_A_G_G',\n",
       "       ...\n",
       "       'WNT9A', 'WWP2', 'XCL1', 'XG', 'XPNPEP2', 'XRCC4', 'YES1', 'YTHDF3',\n",
       "       'ZBTB16', 'ZBTB17'],\n",
       "      dtype='object', length=2100)"
      ]
     },
     "execution_count": 269,
     "metadata": {},
     "output_type": "execute_result"
    }
   ],
   "source": [
    "names"
   ]
  },
  {
   "cell_type": "code",
   "execution_count": 270,
   "id": "bad87fe0",
   "metadata": {},
   "outputs": [
    {
     "data": {
      "text/plain": [
       "Index(['Age', 'Inferred_Gender', 'X1.108176287_C_T_T', 'X1.151115007_G_A_A',\n",
       "       'X1.154837939_A_G_G', 'X1.155026114_C_T_C', 'X1.155033317_T_C_T',\n",
       "       'X1.155033918_C_T_T', 'X1.155034632_C_G_G', 'X1.155044197_T_G_G',\n",
       "       ...\n",
       "       'VAMP5', 'VASN', 'VCAM1', 'VIM', 'VSIR', 'VSTM2L', 'VWF', 'WASF1', 'XG',\n",
       "       'ZBTB17'],\n",
       "      dtype='object', length=2003)"
      ]
     },
     "execution_count": 270,
     "metadata": {},
     "output_type": "execute_result"
    }
   ],
   "source": [
    "X_val1.columns.intersection(names)"
   ]
  },
  {
   "cell_type": "code",
   "execution_count": 310,
   "id": "3416113e",
   "metadata": {},
   "outputs": [],
   "source": [
    "X_val2 = X_val1[X_val1.columns.intersection(names)]"
   ]
  },
  {
   "cell_type": "code",
   "execution_count": 274,
   "id": "db64b1de",
   "metadata": {},
   "outputs": [],
   "source": [
    "Trn_input1 = Trn_input[Trn_input.columns.intersection(X_val2.columns)]"
   ]
  },
  {
   "cell_type": "code",
   "execution_count": 285,
   "id": "c0f3894a",
   "metadata": {},
   "outputs": [],
   "source": [
    "Test_input1 = Test_input[Test_input.columns.intersection(X_val2.columns)]"
   ]
  },
  {
   "cell_type": "code",
   "execution_count": 280,
   "id": "1dd0eea4",
   "metadata": {},
   "outputs": [],
   "source": [
    "#standardize age and move inferred gender to front for ppmi\n",
    "column = \"Age\""
   ]
  },
  {
   "cell_type": "code",
   "execution_count": 287,
   "id": "5505a19f",
   "metadata": {},
   "outputs": [
    {
     "name": "stderr",
     "output_type": "stream",
     "text": [
      "/tmp/ipykernel_793386/2651736735.py:2: SettingWithCopyWarning: \n",
      "A value is trying to be set on a copy of a slice from a DataFrame.\n",
      "Try using .loc[row_indexer,col_indexer] = value instead\n",
      "\n",
      "See the caveats in the documentation: https://pandas.pydata.org/pandas-docs/stable/user_guide/indexing.html#returning-a-view-versus-a-copy\n",
      "  Trn_input1[column] = (Trn_input1[column] - Trn_input1[column].min()) / (Trn_input1[column].max() - Trn_input1[column].min())\n",
      "/tmp/ipykernel_793386/2651736735.py:3: SettingWithCopyWarning: \n",
      "A value is trying to be set on a copy of a slice from a DataFrame.\n",
      "Try using .loc[row_indexer,col_indexer] = value instead\n",
      "\n",
      "See the caveats in the documentation: https://pandas.pydata.org/pandas-docs/stable/user_guide/indexing.html#returning-a-view-versus-a-copy\n",
      "  Test_input1[column] = (Test_input1[column] - Test_input1[column].min()) / (Test_input1[column].max() - Test_input1[column].min())\n"
     ]
    }
   ],
   "source": [
    "#Standarize age, and biomarkers\n",
    "Trn_input1[column] = (Trn_input1[column] - Trn_input1[column].min()) / (Trn_input1[column].max() - Trn_input1[column].min())\n",
    "Test_input1[column] = (Test_input1[column] - Test_input1[column].min()) / (Test_input1[column].max() - Test_input1[column].min())\n",
    "#X_val[column] = (X_val[column] - X_val[column].min()) / (X_val[column].max() - X_val[column].min())"
   ]
  },
  {
   "cell_type": "code",
   "execution_count": null,
   "id": "d4c4766f",
   "metadata": {},
   "outputs": [],
   "source": [
    "#Save TRAIN, TEST, VAL"
   ]
  },
  {
   "cell_type": "code",
   "execution_count": 313,
   "id": "7832c05d",
   "metadata": {},
   "outputs": [],
   "source": [
    "first_column = X_val2.pop('Inferred_Gender') \n",
    "X_val2.insert(0,'Inferred_Gender', first_column)"
   ]
  },
  {
   "cell_type": "code",
   "execution_count": 303,
   "id": "79fb5560",
   "metadata": {},
   "outputs": [
    {
     "name": "stderr",
     "output_type": "stream",
     "text": [
      "/tmp/ipykernel_793386/3911273629.py:1: SettingWithCopyWarning: \n",
      "A value is trying to be set on a copy of a slice from a DataFrame.\n",
      "Try using .loc[row_indexer,col_indexer] = value instead\n",
      "\n",
      "See the caveats in the documentation: https://pandas.pydata.org/pandas-docs/stable/user_guide/indexing.html#returning-a-view-versus-a-copy\n",
      "  X_val2.fillna(Trn_input.mode().iloc[0], inplace=True)\n"
     ]
    }
   ],
   "source": [
    "#X_val2.fillna(X_val2.mode().iloc[0], inplace=True)"
   ]
  },
  {
   "cell_type": "code",
   "execution_count": 294,
   "id": "61ed9553",
   "metadata": {},
   "outputs": [],
   "source": [
    "# #Save TRAIN, TEST, VAL\n",
    "\n",
    "# Trn_input1.to_pickle(\"/home/ffc4001/ukbiobankdata/Data/final_X_trainolink\")\n",
    "# Trn_target.to_pickle(\"/home/ffc4001/ukbiobankdata/Data/final_Y_trainolink\")\n",
    "# Test_input1.to_pickle(\"/home/ffc4001/ukbiobankdata/Data/final_X_testolink\")\n",
    "# Test_target.to_pickle(\"/home/ffc4001/ukbiobankdata/Data/final_Y_testolink\")"
   ]
  },
  {
   "cell_type": "code",
   "execution_count": 298,
   "id": "5b0901f7",
   "metadata": {},
   "outputs": [],
   "source": [
    "combined_ppmi_uk_target = pd.concat([Test_target, Y_val1])"
   ]
  },
  {
   "cell_type": "code",
   "execution_count": 304,
   "id": "4f8d0e36",
   "metadata": {},
   "outputs": [],
   "source": [
    "combined_ppmi_uk_target_input = pd.concat([Test_input1, X_val2])"
   ]
  },
  {
   "cell_type": "code",
   "execution_count": 305,
   "id": "1f968415",
   "metadata": {},
   "outputs": [],
   "source": [
    "# combined_ppmi_uk_target_input.to_pickle(\"/home/ffc4001/ukbiobankdata/Data/final_combinedtest\")\n",
    "# combined_ppmi_uk_target.to_pickle(\"/home/ffc4001/ukbiobankdata/Data/final_Y_combinedtest\")"
   ]
  },
  {
   "cell_type": "code",
   "execution_count": 316,
   "id": "f16fea61",
   "metadata": {},
   "outputs": [],
   "source": [
    "x_val2 = X_val2[Test_input1.columns]\n",
    "x_val2.fillna(x_val2.mode().iloc[0], inplace=True)"
   ]
  },
  {
   "cell_type": "code",
   "execution_count": 317,
   "id": "851acb18",
   "metadata": {},
   "outputs": [],
   "source": [
    "x_val2.to_pickle(\"/home/ffc4001/ukbiobankdata/Data/final_X_valolink\")\n",
    "Y_val1.to_pickle(\"/home/ffc4001/ukbiobankdata/Data/final_Y_valolink\")"
   ]
  }
 ],
 "metadata": {
  "kernelspec": {
   "display_name": "Python 3 (ipykernel)",
   "language": "python",
   "name": "python3"
  },
  "language_info": {
   "codemirror_mode": {
    "name": "ipython",
    "version": 3
   },
   "file_extension": ".py",
   "mimetype": "text/x-python",
   "name": "python",
   "nbconvert_exporter": "python",
   "pygments_lexer": "ipython3",
   "version": "3.9.10"
  },
  "toc": {
   "base_numbering": 1,
   "nav_menu": {},
   "number_sections": true,
   "sideBar": true,
   "skip_h1_title": false,
   "title_cell": "Table of Contents",
   "title_sidebar": "Contents",
   "toc_cell": false,
   "toc_position": {},
   "toc_section_display": true,
   "toc_window_display": false
  }
 },
 "nbformat": 4,
 "nbformat_minor": 5
}
